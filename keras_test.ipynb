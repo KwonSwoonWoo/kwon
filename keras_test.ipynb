{
 "cells": [
  {
   "cell_type": "code",
   "execution_count": 11,
   "metadata": {},
   "outputs": [],
   "source": [
    "import tensorflow as tf\n",
    "import keras\n",
    "from keras.layers import Dense\n",
    "import numpy as np\n",
    "import pandas as pd\n",
    "import sklearn as sk"
   ]
  },
  {
   "cell_type": "code",
   "execution_count": 12,
   "metadata": {},
   "outputs": [],
   "source": [
    "from keras.models import Sequential"
   ]
  },
  {
   "cell_type": "code",
   "execution_count": 13,
   "metadata": {},
   "outputs": [],
   "source": [
    "model = Sequential()"
   ]
  },
  {
   "cell_type": "code",
   "execution_count": 14,
   "metadata": {},
   "outputs": [],
   "source": [
    "model.add(Dense(10,activation='relu'))\n",
    "model.add(Dense(10,activation='relu'))\n",
    "model.add(Dense(10,activation='relu'))\n",
    "model.add(Dense(10,activation='relu'))"
   ]
  },
  {
   "cell_type": "code",
   "execution_count": 15,
   "metadata": {
    "collapsed": true
   },
   "outputs": [],
   "source": [
    "model.compile(optimizer=keras.optimizers.Adam(0.001),\n",
    "             loss='mae',\n",
    "             metrics=['mae'])"
   ]
  },
  {
   "cell_type": "code",
   "execution_count": 16,
   "metadata": {},
   "outputs": [],
   "source": [
    "data = np.random.random((1000,32))\n",
    "labels = np.random.random((1000,10))"
   ]
  },
  {
   "cell_type": "code",
   "execution_count": 17,
   "metadata": {
    "collapsed": true
   },
   "outputs": [],
   "source": [
    "import sklearn \n",
    "from sklearn.model_selection import train_test_split\n",
    "from sklearn.preprocessing import StandardScaler"
   ]
  },
  {
   "cell_type": "code",
   "execution_count": 18,
   "metadata": {},
   "outputs": [
    {
     "name": "stderr",
     "output_type": "stream",
     "text": [
      "/opt/anaconda3/lib/python3.6/site-packages/sklearn/model_selection/_split.py:2026: FutureWarning: From version 0.21, test_size will always complement train_size unless both are specified.\n",
      "  FutureWarning)\n"
     ]
    }
   ],
   "source": [
    "#split train and test\n",
    "R1 = np.random.randint(0,10)*20\n",
    "R2 = np.random.randint(0,10)*20\n",
    "\n",
    "X_train_total, X_test_origin, y_train_total, y_test = train_test_split(data, labels, train_size=0.8, random_state= R1)\n",
    "X_train_origin, X_val_origin, y_train, y_val = train_test_split(data, labels, train_size=0.8, random_state= R2)\n",
    "\n",
    "Scaler = StandardScaler()\n",
    "Scaler.fit(X_train_origin)\n",
    "X_train = Scaler.transform(X_train_origin)\n",
    "X_val = Scaler.transform(X_val_origin)\n",
    "X_test = Scaler.transform(X_test_origin)\n"
   ]
  },
  {
   "cell_type": "code",
   "execution_count": 19,
   "metadata": {},
   "outputs": [
    {
     "name": "stdout",
     "output_type": "stream",
     "text": [
      "Train on 1000 samples, validate on 200 samples\n",
      "Epoch 1/100\n",
      "1000/1000 [==============================] - 0s 322us/step - loss: 0.4299 - mean_absolute_error: 0.4299 - val_loss: 0.4166 - val_mean_absolute_error: 0.4166\n",
      "Epoch 2/100\n",
      "1000/1000 [==============================] - 0s 95us/step - loss: 0.3473 - mean_absolute_error: 0.3473 - val_loss: 0.4160 - val_mean_absolute_error: 0.4160\n",
      "Epoch 3/100\n",
      "1000/1000 [==============================] - 0s 110us/step - loss: 0.3013 - mean_absolute_error: 0.3013 - val_loss: 0.3988 - val_mean_absolute_error: 0.3988\n",
      "Epoch 4/100\n",
      "1000/1000 [==============================] - 0s 104us/step - loss: 0.2862 - mean_absolute_error: 0.2862 - val_loss: 0.3937 - val_mean_absolute_error: 0.3937\n",
      "Epoch 5/100\n",
      "1000/1000 [==============================] - 0s 116us/step - loss: 0.2826 - mean_absolute_error: 0.2826 - val_loss: 0.3920 - val_mean_absolute_error: 0.3920\n",
      "Epoch 6/100\n",
      "1000/1000 [==============================] - 0s 109us/step - loss: 0.2811 - mean_absolute_error: 0.2811 - val_loss: 0.3913 - val_mean_absolute_error: 0.3913\n",
      "Epoch 7/100\n",
      "1000/1000 [==============================] - 0s 99us/step - loss: 0.2799 - mean_absolute_error: 0.2799 - val_loss: 0.3897 - val_mean_absolute_error: 0.3897\n",
      "Epoch 8/100\n",
      "1000/1000 [==============================] - 0s 106us/step - loss: 0.2791 - mean_absolute_error: 0.2791 - val_loss: 0.3900 - val_mean_absolute_error: 0.3900\n",
      "Epoch 9/100\n",
      "1000/1000 [==============================] - 0s 108us/step - loss: 0.2787 - mean_absolute_error: 0.2787 - val_loss: 0.3909 - val_mean_absolute_error: 0.3909\n",
      "Epoch 10/100\n",
      "1000/1000 [==============================] - 0s 105us/step - loss: 0.2781 - mean_absolute_error: 0.2781 - val_loss: 0.3903 - val_mean_absolute_error: 0.3903\n",
      "Epoch 11/100\n",
      "1000/1000 [==============================] - 0s 104us/step - loss: 0.2775 - mean_absolute_error: 0.2775 - val_loss: 0.3913 - val_mean_absolute_error: 0.3913\n",
      "Epoch 12/100\n",
      "1000/1000 [==============================] - 0s 98us/step - loss: 0.2773 - mean_absolute_error: 0.2773 - val_loss: 0.3908 - val_mean_absolute_error: 0.3908\n",
      "Epoch 13/100\n",
      "1000/1000 [==============================] - 0s 101us/step - loss: 0.2769 - mean_absolute_error: 0.2769 - val_loss: 0.3899 - val_mean_absolute_error: 0.3899\n",
      "Epoch 14/100\n",
      "1000/1000 [==============================] - 0s 100us/step - loss: 0.2768 - mean_absolute_error: 0.2768 - val_loss: 0.3925 - val_mean_absolute_error: 0.3925\n",
      "Epoch 15/100\n",
      "1000/1000 [==============================] - 0s 102us/step - loss: 0.2763 - mean_absolute_error: 0.2763 - val_loss: 0.3919 - val_mean_absolute_error: 0.3919\n",
      "Epoch 16/100\n",
      "1000/1000 [==============================] - 0s 118us/step - loss: 0.2760 - mean_absolute_error: 0.2760 - val_loss: 0.3935 - val_mean_absolute_error: 0.3935\n",
      "Epoch 17/100\n",
      "1000/1000 [==============================] - 0s 100us/step - loss: 0.2756 - mean_absolute_error: 0.2756 - val_loss: 0.3937 - val_mean_absolute_error: 0.3937\n",
      "Epoch 18/100\n",
      "1000/1000 [==============================] - 0s 129us/step - loss: 0.2757 - mean_absolute_error: 0.2757 - val_loss: 0.3915 - val_mean_absolute_error: 0.3915\n",
      "Epoch 19/100\n",
      "1000/1000 [==============================] - 0s 110us/step - loss: 0.2756 - mean_absolute_error: 0.2756 - val_loss: 0.3930 - val_mean_absolute_error: 0.3930\n",
      "Epoch 20/100\n",
      "1000/1000 [==============================] - 0s 93us/step - loss: 0.2751 - mean_absolute_error: 0.2751 - val_loss: 0.3956 - val_mean_absolute_error: 0.3956\n",
      "Epoch 21/100\n",
      "1000/1000 [==============================] - 0s 89us/step - loss: 0.2750 - mean_absolute_error: 0.2750 - val_loss: 0.3975 - val_mean_absolute_error: 0.3975\n",
      "Epoch 22/100\n",
      "1000/1000 [==============================] - 0s 89us/step - loss: 0.2749 - mean_absolute_error: 0.2749 - val_loss: 0.3980 - val_mean_absolute_error: 0.3980\n",
      "Epoch 23/100\n",
      "1000/1000 [==============================] - 0s 89us/step - loss: 0.2749 - mean_absolute_error: 0.2749 - val_loss: 0.3995 - val_mean_absolute_error: 0.3995\n",
      "Epoch 24/100\n",
      "1000/1000 [==============================] - 0s 93us/step - loss: 0.2749 - mean_absolute_error: 0.2749 - val_loss: 0.3988 - val_mean_absolute_error: 0.3988\n",
      "Epoch 25/100\n",
      "1000/1000 [==============================] - 0s 92us/step - loss: 0.2744 - mean_absolute_error: 0.2744 - val_loss: 0.4003 - val_mean_absolute_error: 0.4003\n",
      "Epoch 26/100\n",
      "1000/1000 [==============================] - 0s 93us/step - loss: 0.2746 - mean_absolute_error: 0.2746 - val_loss: 0.4022 - val_mean_absolute_error: 0.4022\n",
      "Epoch 27/100\n",
      "1000/1000 [==============================] - 0s 98us/step - loss: 0.2743 - mean_absolute_error: 0.2743 - val_loss: 0.4061 - val_mean_absolute_error: 0.4061\n",
      "Epoch 28/100\n",
      "1000/1000 [==============================] - 0s 94us/step - loss: 0.2740 - mean_absolute_error: 0.2740 - val_loss: 0.4050 - val_mean_absolute_error: 0.4050\n",
      "Epoch 29/100\n",
      "1000/1000 [==============================] - 0s 104us/step - loss: 0.2740 - mean_absolute_error: 0.2740 - val_loss: 0.4082 - val_mean_absolute_error: 0.4082\n",
      "Epoch 30/100\n",
      "1000/1000 [==============================] - 0s 91us/step - loss: 0.2740 - mean_absolute_error: 0.2740 - val_loss: 0.4092 - val_mean_absolute_error: 0.4092\n",
      "Epoch 31/100\n",
      "1000/1000 [==============================] - 0s 92us/step - loss: 0.2736 - mean_absolute_error: 0.2736 - val_loss: 0.4118 - val_mean_absolute_error: 0.4118\n",
      "Epoch 32/100\n",
      "1000/1000 [==============================] - 0s 92us/step - loss: 0.2737 - mean_absolute_error: 0.2737 - val_loss: 0.4109 - val_mean_absolute_error: 0.4109\n",
      "Epoch 33/100\n",
      "1000/1000 [==============================] - 0s 97us/step - loss: 0.2735 - mean_absolute_error: 0.2735 - val_loss: 0.4151 - val_mean_absolute_error: 0.4151\n",
      "Epoch 34/100\n",
      "1000/1000 [==============================] - 0s 106us/step - loss: 0.2735 - mean_absolute_error: 0.2735 - val_loss: 0.4205 - val_mean_absolute_error: 0.4205\n",
      "Epoch 35/100\n",
      "1000/1000 [==============================] - ETA: 0s - loss: 0.2754 - mean_absolute_error: 0.275 - 0s 93us/step - loss: 0.2740 - mean_absolute_error: 0.2740 - val_loss: 0.4198 - val_mean_absolute_error: 0.4198\n",
      "Epoch 36/100\n",
      "1000/1000 [==============================] - 0s 94us/step - loss: 0.2733 - mean_absolute_error: 0.2733 - val_loss: 0.4210 - val_mean_absolute_error: 0.4210\n",
      "Epoch 37/100\n",
      "1000/1000 [==============================] - 0s 88us/step - loss: 0.2731 - mean_absolute_error: 0.2731 - val_loss: 0.4225 - val_mean_absolute_error: 0.4225\n",
      "Epoch 38/100\n",
      "1000/1000 [==============================] - ETA: 0s - loss: 0.2727 - mean_absolute_error: 0.272 - 0s 112us/step - loss: 0.2730 - mean_absolute_error: 0.2730 - val_loss: 0.4242 - val_mean_absolute_error: 0.4242\n",
      "Epoch 39/100\n",
      "1000/1000 [==============================] - 0s 111us/step - loss: 0.2728 - mean_absolute_error: 0.2728 - val_loss: 0.4296 - val_mean_absolute_error: 0.4296\n",
      "Epoch 40/100\n",
      "1000/1000 [==============================] - 0s 93us/step - loss: 0.2729 - mean_absolute_error: 0.2729 - val_loss: 0.4291 - val_mean_absolute_error: 0.4291\n",
      "Epoch 41/100\n",
      "1000/1000 [==============================] - 0s 95us/step - loss: 0.2728 - mean_absolute_error: 0.2728 - val_loss: 0.4328 - val_mean_absolute_error: 0.4328\n",
      "Epoch 42/100\n",
      "1000/1000 [==============================] - 0s 95us/step - loss: 0.2726 - mean_absolute_error: 0.2726 - val_loss: 0.4387 - val_mean_absolute_error: 0.4387\n",
      "Epoch 43/100\n",
      "1000/1000 [==============================] - 0s 93us/step - loss: 0.2724 - mean_absolute_error: 0.2724 - val_loss: 0.4380 - val_mean_absolute_error: 0.4380\n",
      "Epoch 44/100\n",
      "1000/1000 [==============================] - ETA: 0s - loss: 0.2719 - mean_absolute_error: 0.271 - 0s 101us/step - loss: 0.2727 - mean_absolute_error: 0.2727 - val_loss: 0.4401 - val_mean_absolute_error: 0.4401\n",
      "Epoch 45/100\n",
      "1000/1000 [==============================] - 0s 110us/step - loss: 0.2722 - mean_absolute_error: 0.2722 - val_loss: 0.4452 - val_mean_absolute_error: 0.4452\n",
      "Epoch 46/100\n",
      "1000/1000 [==============================] - 0s 99us/step - loss: 0.2721 - mean_absolute_error: 0.2721 - val_loss: 0.4436 - val_mean_absolute_error: 0.4436\n",
      "Epoch 47/100\n",
      "1000/1000 [==============================] - 0s 99us/step - loss: 0.2723 - mean_absolute_error: 0.2723 - val_loss: 0.4489 - val_mean_absolute_error: 0.4489\n",
      "Epoch 48/100\n"
     ]
    },
    {
     "name": "stdout",
     "output_type": "stream",
     "text": [
      "1000/1000 [==============================] - 0s 92us/step - loss: 0.2723 - mean_absolute_error: 0.2723 - val_loss: 0.4510 - val_mean_absolute_error: 0.4510\n",
      "Epoch 49/100\n",
      "1000/1000 [==============================] - 0s 110us/step - loss: 0.2721 - mean_absolute_error: 0.2721 - val_loss: 0.4520 - val_mean_absolute_error: 0.4520\n",
      "Epoch 50/100\n",
      "1000/1000 [==============================] - 0s 142us/step - loss: 0.2719 - mean_absolute_error: 0.2719 - val_loss: 0.4524 - val_mean_absolute_error: 0.4524\n",
      "Epoch 51/100\n",
      "1000/1000 [==============================] - 0s 119us/step - loss: 0.2715 - mean_absolute_error: 0.2715 - val_loss: 0.4547 - val_mean_absolute_error: 0.4547\n",
      "Epoch 52/100\n",
      "1000/1000 [==============================] - 0s 115us/step - loss: 0.2715 - mean_absolute_error: 0.2715 - val_loss: 0.4577 - val_mean_absolute_error: 0.4577\n",
      "Epoch 53/100\n",
      "1000/1000 [==============================] - 0s 100us/step - loss: 0.2711 - mean_absolute_error: 0.2711 - val_loss: 0.4600 - val_mean_absolute_error: 0.4600\n",
      "Epoch 54/100\n",
      "1000/1000 [==============================] - 0s 109us/step - loss: 0.2713 - mean_absolute_error: 0.2713 - val_loss: 0.4592 - val_mean_absolute_error: 0.4592\n",
      "Epoch 55/100\n",
      "1000/1000 [==============================] - 0s 102us/step - loss: 0.2711 - mean_absolute_error: 0.2711 - val_loss: 0.4591 - val_mean_absolute_error: 0.4591\n",
      "Epoch 56/100\n",
      "1000/1000 [==============================] - 0s 100us/step - loss: 0.2709 - mean_absolute_error: 0.2709 - val_loss: 0.4620 - val_mean_absolute_error: 0.4620\n",
      "Epoch 57/100\n",
      "1000/1000 [==============================] - 0s 103us/step - loss: 0.2710 - mean_absolute_error: 0.2710 - val_loss: 0.4672 - val_mean_absolute_error: 0.4672\n",
      "Epoch 58/100\n",
      "1000/1000 [==============================] - 0s 101us/step - loss: 0.2710 - mean_absolute_error: 0.2710 - val_loss: 0.4678 - val_mean_absolute_error: 0.4678\n",
      "Epoch 59/100\n",
      "1000/1000 [==============================] - 0s 120us/step - loss: 0.2712 - mean_absolute_error: 0.2712 - val_loss: 0.4674 - val_mean_absolute_error: 0.4674\n",
      "Epoch 60/100\n",
      "1000/1000 [==============================] - 0s 118us/step - loss: 0.2704 - mean_absolute_error: 0.2704 - val_loss: 0.4682 - val_mean_absolute_error: 0.4682\n",
      "Epoch 61/100\n",
      "1000/1000 [==============================] - 0s 106us/step - loss: 0.2705 - mean_absolute_error: 0.2705 - val_loss: 0.4695 - val_mean_absolute_error: 0.4695\n",
      "Epoch 62/100\n",
      "1000/1000 [==============================] - 0s 93us/step - loss: 0.2706 - mean_absolute_error: 0.2706 - val_loss: 0.4607 - val_mean_absolute_error: 0.4607\n",
      "Epoch 63/100\n",
      "1000/1000 [==============================] - 0s 91us/step - loss: 0.2702 - mean_absolute_error: 0.2702 - val_loss: 0.4674 - val_mean_absolute_error: 0.4674\n",
      "Epoch 64/100\n",
      "1000/1000 [==============================] - 0s 93us/step - loss: 0.2700 - mean_absolute_error: 0.2700 - val_loss: 0.4636 - val_mean_absolute_error: 0.4636\n",
      "Epoch 65/100\n",
      "1000/1000 [==============================] - 0s 106us/step - loss: 0.2700 - mean_absolute_error: 0.2700 - val_loss: 0.4672 - val_mean_absolute_error: 0.4672\n",
      "Epoch 66/100\n",
      "1000/1000 [==============================] - ETA: 0s - loss: 0.2683 - mean_absolute_error: 0.268 - 0s 88us/step - loss: 0.2697 - mean_absolute_error: 0.2697 - val_loss: 0.4708 - val_mean_absolute_error: 0.4708\n",
      "Epoch 67/100\n",
      "1000/1000 [==============================] - 0s 89us/step - loss: 0.2698 - mean_absolute_error: 0.2698 - val_loss: 0.4754 - val_mean_absolute_error: 0.4754\n",
      "Epoch 68/100\n",
      "1000/1000 [==============================] - 0s 90us/step - loss: 0.2697 - mean_absolute_error: 0.2697 - val_loss: 0.4661 - val_mean_absolute_error: 0.4661\n",
      "Epoch 69/100\n",
      "1000/1000 [==============================] - 0s 115us/step - loss: 0.2697 - mean_absolute_error: 0.2697 - val_loss: 0.4689 - val_mean_absolute_error: 0.4689\n",
      "Epoch 70/100\n",
      "1000/1000 [==============================] - 0s 118us/step - loss: 0.2696 - mean_absolute_error: 0.2696 - val_loss: 0.4718 - val_mean_absolute_error: 0.4718\n",
      "Epoch 71/100\n",
      "1000/1000 [==============================] - 0s 108us/step - loss: 0.2694 - mean_absolute_error: 0.2694 - val_loss: 0.4722 - val_mean_absolute_error: 0.4722\n",
      "Epoch 72/100\n",
      "1000/1000 [==============================] - 0s 102us/step - loss: 0.2696 - mean_absolute_error: 0.2696 - val_loss: 0.4759 - val_mean_absolute_error: 0.4759\n",
      "Epoch 73/100\n",
      "1000/1000 [==============================] - 0s 93us/step - loss: 0.2694 - mean_absolute_error: 0.2694 - val_loss: 0.4758 - val_mean_absolute_error: 0.4758\n",
      "Epoch 74/100\n",
      "1000/1000 [==============================] - 0s 99us/step - loss: 0.2693 - mean_absolute_error: 0.2693 - val_loss: 0.4697 - val_mean_absolute_error: 0.4697\n",
      "Epoch 75/100\n",
      "1000/1000 [==============================] - 0s 105us/step - loss: 0.2693 - mean_absolute_error: 0.2693 - val_loss: 0.4784 - val_mean_absolute_error: 0.4784\n",
      "Epoch 76/100\n",
      "1000/1000 [==============================] - 0s 92us/step - loss: 0.2690 - mean_absolute_error: 0.2690 - val_loss: 0.4781 - val_mean_absolute_error: 0.4781\n",
      "Epoch 77/100\n",
      "1000/1000 [==============================] - 0s 101us/step - loss: 0.2690 - mean_absolute_error: 0.2690 - val_loss: 0.4814 - val_mean_absolute_error: 0.4814\n",
      "Epoch 78/100\n",
      "1000/1000 [==============================] - 0s 105us/step - loss: 0.2690 - mean_absolute_error: 0.2690 - val_loss: 0.4772 - val_mean_absolute_error: 0.4772\n",
      "Epoch 79/100\n",
      "1000/1000 [==============================] - 0s 104us/step - loss: 0.2691 - mean_absolute_error: 0.2691 - val_loss: 0.4826 - val_mean_absolute_error: 0.4826\n",
      "Epoch 80/100\n",
      "1000/1000 [==============================] - 0s 101us/step - loss: 0.2690 - mean_absolute_error: 0.2690 - val_loss: 0.4819 - val_mean_absolute_error: 0.4819\n",
      "Epoch 81/100\n",
      "1000/1000 [==============================] - 0s 122us/step - loss: 0.2688 - mean_absolute_error: 0.2688 - val_loss: 0.4799 - val_mean_absolute_error: 0.4799\n",
      "Epoch 82/100\n",
      "1000/1000 [==============================] - 0s 117us/step - loss: 0.2690 - mean_absolute_error: 0.2690 - val_loss: 0.4837 - val_mean_absolute_error: 0.4837\n",
      "Epoch 83/100\n",
      "1000/1000 [==============================] - 0s 110us/step - loss: 0.2691 - mean_absolute_error: 0.2691 - val_loss: 0.4834 - val_mean_absolute_error: 0.4834\n",
      "Epoch 84/100\n",
      "1000/1000 [==============================] - 0s 108us/step - loss: 0.2689 - mean_absolute_error: 0.2689 - val_loss: 0.4809 - val_mean_absolute_error: 0.4809\n",
      "Epoch 85/100\n",
      "1000/1000 [==============================] - 0s 103us/step - loss: 0.2688 - mean_absolute_error: 0.2688 - val_loss: 0.4807 - val_mean_absolute_error: 0.4807\n",
      "Epoch 86/100\n",
      "1000/1000 [==============================] - 0s 98us/step - loss: 0.2685 - mean_absolute_error: 0.2685 - val_loss: 0.4818 - val_mean_absolute_error: 0.4818\n",
      "Epoch 87/100\n",
      "1000/1000 [==============================] - 0s 106us/step - loss: 0.2683 - mean_absolute_error: 0.2683 - val_loss: 0.4784 - val_mean_absolute_error: 0.4784\n",
      "Epoch 88/100\n",
      "1000/1000 [==============================] - 0s 107us/step - loss: 0.2684 - mean_absolute_error: 0.2684 - val_loss: 0.4801 - val_mean_absolute_error: 0.4801\n",
      "Epoch 89/100\n",
      "1000/1000 [==============================] - 0s 99us/step - loss: 0.2684 - mean_absolute_error: 0.2684 - val_loss: 0.4841 - val_mean_absolute_error: 0.4841\n",
      "Epoch 90/100\n",
      "1000/1000 [==============================] - 0s 98us/step - loss: 0.2683 - mean_absolute_error: 0.2683 - val_loss: 0.4821 - val_mean_absolute_error: 0.4821\n",
      "Epoch 91/100\n",
      "1000/1000 [==============================] - 0s 87us/step - loss: 0.2684 - mean_absolute_error: 0.2684 - val_loss: 0.4806 - val_mean_absolute_error: 0.4806\n",
      "Epoch 92/100\n",
      "1000/1000 [==============================] - 0s 90us/step - loss: 0.2683 - mean_absolute_error: 0.2683 - val_loss: 0.4832 - val_mean_absolute_error: 0.4832\n",
      "Epoch 93/100\n",
      "1000/1000 [==============================] - 0s 101us/step - loss: 0.2681 - mean_absolute_error: 0.2681 - val_loss: 0.4840 - val_mean_absolute_error: 0.4840\n",
      "Epoch 94/100\n",
      "1000/1000 [==============================] - 0s 89us/step - loss: 0.2680 - mean_absolute_error: 0.2680 - val_loss: 0.4801 - val_mean_absolute_error: 0.4801\n",
      "Epoch 95/100\n",
      "1000/1000 [==============================] - 0s 100us/step - loss: 0.2679 - mean_absolute_error: 0.2679 - val_loss: 0.4833 - val_mean_absolute_error: 0.4833\n",
      "Epoch 96/100\n"
     ]
    },
    {
     "name": "stdout",
     "output_type": "stream",
     "text": [
      "1000/1000 [==============================] - 0s 100us/step - loss: 0.2682 - mean_absolute_error: 0.2682 - val_loss: 0.4747 - val_mean_absolute_error: 0.4747\n",
      "Epoch 97/100\n",
      "1000/1000 [==============================] - 0s 102us/step - loss: 0.2681 - mean_absolute_error: 0.2681 - val_loss: 0.4771 - val_mean_absolute_error: 0.4771\n",
      "Epoch 98/100\n",
      "1000/1000 [==============================] - 0s 86us/step - loss: 0.2679 - mean_absolute_error: 0.2679 - val_loss: 0.4803 - val_mean_absolute_error: 0.4803\n",
      "Epoch 99/100\n",
      "1000/1000 [==============================] - 0s 90us/step - loss: 0.2678 - mean_absolute_error: 0.2678 - val_loss: 0.4801 - val_mean_absolute_error: 0.4801\n",
      "Epoch 100/100\n",
      "1000/1000 [==============================] - 0s 114us/step - loss: 0.2678 - mean_absolute_error: 0.2678 - val_loss: 0.4826 - val_mean_absolute_error: 0.4826\n"
     ]
    },
    {
     "data": {
      "text/plain": [
       "<keras.callbacks.History at 0x7f196d9a78d0>"
      ]
     },
     "execution_count": 19,
     "metadata": {},
     "output_type": "execute_result"
    }
   ],
   "source": [
    "val_data = np.random.random((10000,32))\n",
    "val_labels = np.random.random((10000,10))\n",
    "\n",
    "model.fit(data,labels,epochs=100,batch_size=32,validation_data=(X_val, y_val))"
   ]
  },
  {
   "cell_type": "code",
   "execution_count": null,
   "metadata": {
    "collapsed": true
   },
   "outputs": [],
   "source": []
  }
 ],
 "metadata": {
  "kernelspec": {
   "display_name": "Python 3",
   "language": "python",
   "name": "python3"
  },
  "language_info": {
   "codemirror_mode": {
    "name": "ipython",
    "version": 3
   },
   "file_extension": ".py",
   "mimetype": "text/x-python",
   "name": "python",
   "nbconvert_exporter": "python",
   "pygments_lexer": "ipython3",
   "version": "3.6.3"
  }
 },
 "nbformat": 4,
 "nbformat_minor": 2
}
